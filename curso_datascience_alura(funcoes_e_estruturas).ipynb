{
  "nbformat": 4,
  "nbformat_minor": 0,
  "metadata": {
    "colab": {
      "provenance": []
    },
    "kernelspec": {
      "name": "python3",
      "display_name": "Python 3"
    },
    "language_info": {
      "name": "python"
    }
  },
  "cells": [
    {
      "cell_type": "markdown",
      "source": [
        "instalando bibliotecas com pip"
      ],
      "metadata": {
        "id": "8YJju_Zr_uA0"
      }
    },
    {
      "cell_type": "code",
      "execution_count": 3,
      "metadata": {
        "colab": {
          "base_uri": "https://localhost:8080/"
        },
        "id": "Rti5KbHu_Qi3",
        "outputId": "87c56f78-7730-4b07-a3c2-690f3ea7dc98"
      },
      "outputs": [
        {
          "output_type": "stream",
          "name": "stdout",
          "text": [
            "Requirement already satisfied: matplotlib in /usr/local/lib/python3.10/dist-packages (3.7.1)\n",
            "Requirement already satisfied: contourpy>=1.0.1 in /usr/local/lib/python3.10/dist-packages (from matplotlib) (1.2.1)\n",
            "Requirement already satisfied: cycler>=0.10 in /usr/local/lib/python3.10/dist-packages (from matplotlib) (0.12.1)\n",
            "Requirement already satisfied: fonttools>=4.22.0 in /usr/local/lib/python3.10/dist-packages (from matplotlib) (4.53.1)\n",
            "Requirement already satisfied: kiwisolver>=1.0.1 in /usr/local/lib/python3.10/dist-packages (from matplotlib) (1.4.5)\n",
            "Requirement already satisfied: numpy>=1.20 in /usr/local/lib/python3.10/dist-packages (from matplotlib) (1.25.2)\n",
            "Requirement already satisfied: packaging>=20.0 in /usr/local/lib/python3.10/dist-packages (from matplotlib) (24.1)\n",
            "Requirement already satisfied: pillow>=6.2.0 in /usr/local/lib/python3.10/dist-packages (from matplotlib) (9.4.0)\n",
            "Requirement already satisfied: pyparsing>=2.3.1 in /usr/local/lib/python3.10/dist-packages (from matplotlib) (3.1.2)\n",
            "Requirement already satisfied: python-dateutil>=2.7 in /usr/local/lib/python3.10/dist-packages (from matplotlib) (2.8.2)\n",
            "Requirement already satisfied: six>=1.5 in /usr/local/lib/python3.10/dist-packages (from python-dateutil>=2.7->matplotlib) (1.16.0)\n"
          ]
        }
      ],
      "source": [
        "!pip install matplotlib"
      ]
    },
    {
      "cell_type": "markdown",
      "source": [
        "se quiser usar uma versao especifica, usar: !pip install matplotlib==3.6.2\n"
      ],
      "metadata": {
        "id": "eCfhzH9fABa4"
      }
    },
    {
      "cell_type": "markdown",
      "source": [
        "# importando uma lib\n"
      ],
      "metadata": {
        "id": "RVNVJ0QcAd3q"
      }
    },
    {
      "cell_type": "code",
      "source": [
        "#importando sem alias\n",
        "\n",
        "import matplotlib\n",
        "\n",
        "matplotlib.__version__"
      ],
      "metadata": {
        "colab": {
          "base_uri": "https://localhost:8080/",
          "height": 36
        },
        "id": "z2lPihWoAXpO",
        "outputId": "fac49f28-a3d5-42f4-8656-77a743c97728"
      },
      "execution_count": 4,
      "outputs": [
        {
          "output_type": "execute_result",
          "data": {
            "text/plain": [
              "'3.7.1'"
            ],
            "application/vnd.google.colaboratory.intrinsic+json": {
              "type": "string"
            }
          },
          "metadata": {},
          "execution_count": 4
        }
      ]
    },
    {
      "cell_type": "code",
      "source": [
        "#importando com alias\n",
        "\n",
        "import matplotlib.pyplot as plt\n",
        "#importa a lib pyplot (que ta dentro da matplotlib) e vai chamar ela de plt\n",
        "\n",
        "plt.show()"
      ],
      "metadata": {
        "id": "ZWE8mvIiA1i0"
      },
      "execution_count": 6,
      "outputs": []
    },
    {
      "cell_type": "markdown",
      "source": [
        "media de notas de estudantes\n"
      ],
      "metadata": {
        "id": "tqMOKxA_Byfm"
      }
    },
    {
      "cell_type": "code",
      "source": [
        "estudantes = ['joao', 'maria', 'pedro', 'ana']\n",
        "notas = [10, 9, 8, 7]"
      ],
      "metadata": {
        "id": "gVh0wF16ByEC"
      },
      "execution_count": 7,
      "outputs": []
    },
    {
      "cell_type": "markdown",
      "source": [
        "gera grafico de notas"
      ],
      "metadata": {
        "id": "JgrKDK7qB-01"
      }
    },
    {
      "cell_type": "code",
      "source": [
        "plt.bar(x = estudantes,height = notas)\n",
        "plt.show()"
      ],
      "metadata": {
        "colab": {
          "base_uri": "https://localhost:8080/",
          "height": 430
        },
        "id": "yYc-q1QIB-RI",
        "outputId": "d1416c67-df8a-47e8-b8c1-25aae92937bc"
      },
      "execution_count": 10,
      "outputs": [
        {
          "output_type": "display_data",
          "data": {
            "text/plain": [
              "<Figure size 640x480 with 1 Axes>"
            ],
            "image/png": "[encoded data removed]"
          },
          "metadata": {}
        }
      ]
    },
    {
      "cell_type": "markdown",
      "source": [
        "vamos randomizar um estudante para apresentar um trabalho\n",
        "\n",
        "\n",
        "para isso vamos importar uma funcao de uma lib"
      ],
      "metadata": {
        "id": "rrsKGjDVCSWg"
      }
    },
    {
      "cell_type": "code",
      "source": [
        "from random import choice"
      ],
      "metadata": {
        "id": "TgNidiAJCW1k"
      },
      "execution_count": 16,
      "outputs": []
    },
    {
      "cell_type": "markdown",
      "source": [
        "oque ela faz?\n"
      ],
      "metadata": {
        "id": "4oAhQTWqCtP-"
      }
    },
    {
      "cell_type": "code",
      "source": [
        "help(choice)"
      ],
      "metadata": {
        "colab": {
          "base_uri": "https://localhost:8080/"
        },
        "id": "7XmqVQc4CuhY",
        "outputId": "db8ff4df-1a91-4a56-ef60-6d51ffd04af3"
      },
      "execution_count": 15,
      "outputs": [
        {
          "output_type": "stream",
          "name": "stdout",
          "text": [
            "Help on method choice in module random:\n",
            "\n",
            "choice(seq) method of random.Random instance\n",
            "    Choose a random element from a non-empty sequence.\n",
            "\n"
          ]
        }
      ]
    },
    {
      "cell_type": "markdown",
      "source": [
        "traduzindo:(recebe uma sequencia e escolhe um elemento aleatorio)"
      ],
      "metadata": {
        "id": "UZyDSxGoC2hq"
      }
    },
    {
      "cell_type": "markdown",
      "source": [
        "fazendo isso entao:\n"
      ],
      "metadata": {
        "id": "HguDeJHcDEa-"
      }
    },
    {
      "cell_type": "code",
      "source": [
        "estudante = choice(estudantes)\n",
        "estudante"
      ],
      "metadata": {
        "colab": {
          "base_uri": "https://localhost:8080/",
          "height": 36
        },
        "id": "vR98cFRgDF2K",
        "outputId": "43156dcf-2075-4e9d-d35b-901e178a9e6f"
      },
      "execution_count": 19,
      "outputs": [
        {
          "output_type": "execute_result",
          "data": {
            "text/plain": [
              "'joao'"
            ],
            "application/vnd.google.colaboratory.intrinsic+json": {
              "type": "string"
            }
          },
          "metadata": {},
          "execution_count": 19
        }
      ]
    },
    {
      "cell_type": "markdown",
      "source": [
        "# funcao de calculo de media\n"
      ],
      "metadata": {
        "id": "6nEATSIMDuGG"
      }
    },
    {
      "cell_type": "code",
      "source": [
        "def media(valores):\n",
        "  for nota in valores:\n",
        "    media = sum(valores) / len(valores)\n",
        "  return media"
      ],
      "metadata": {
        "id": "BQkoO5FpDx9B"
      },
      "execution_count": 4,
      "outputs": []
    },
    {
      "cell_type": "code",
      "source": [
        "notas_alunos = [10, 9, 8, 7]\n",
        "media(notas_alunos)"
      ],
      "metadata": {
        "colab": {
          "base_uri": "https://localhost:8080/"
        },
        "id": "n_Qz3DuwD9Dg",
        "outputId": "6807b32e-b9e4-47e0-bf39-1bfe112cba61"
      },
      "execution_count": 22,
      "outputs": [
        {
          "output_type": "execute_result",
          "data": {
            "text/plain": [
              "8.5"
            ]
          },
          "metadata": {},
          "execution_count": 22
        }
      ]
    },
    {
      "cell_type": "markdown",
      "source": [
        "# avaliar notas"
      ],
      "metadata": {
        "id": "aMJkGWYzFFRr"
      }
    },
    {
      "cell_type": "code",
      "source": [
        "def boletim(lista):\n",
        "    media_aluno = media(lista)\n",
        "    situacao = ''\n",
        "    if media_aluno >= 7:\n",
        "        situacao = 'aprovado'\n",
        "    else:\n",
        "        situacao = 'reprovado'\n",
        "    return (media_aluno, situacao)\n"
      ],
      "metadata": {
        "id": "RyAaBRYLFITf"
      },
      "execution_count": 28,
      "outputs": []
    },
    {
      "cell_type": "code",
      "source": [
        "notas_alunos = [10, 9, 8, 7]\n",
        "\n",
        "arr = boletim(notas_alunos)\n",
        "\n",
        "arr"
      ],
      "metadata": {
        "colab": {
          "base_uri": "https://localhost:8080/"
        },
        "id": "45a-j7VbFiYP",
        "outputId": "fd671b1a-88ac-42ff-b9a1-96687a93d7ce"
      },
      "execution_count": 29,
      "outputs": [
        {
          "output_type": "execute_result",
          "data": {
            "text/plain": [
              "(8.5, 'aprovado')"
            ]
          },
          "metadata": {},
          "execution_count": 29
        }
      ]
    },
    {
      "cell_type": "markdown",
      "source": [
        "# outro tipo de função\n",
        "\n",
        "o type hint:\n",
        "\n",
        "def <nome>(<param>: <tipo_param>) -> <tipo_retorno>:\n",
        "  <instruções>\n",
        "  return resultado\n",
        "\n",
        "é usado para especificar o tipo de entrada(parametros) e o tipo da saida(return) exemplo:"
      ],
      "metadata": {
        "id": "2lfGBX1bGX2X"
      }
    },
    {
      "cell_type": "code",
      "source": [
        "def boletim(lista: list)-> list: #recebe uma lista e retorna uma lista\n",
        "    media_aluno = media(lista)\n",
        "    situacao = ''\n",
        "    if media_aluno >= 7:\n",
        "        situacao = 'aprovado'\n",
        "    else:\n",
        "        situacao = 'reprovado'\n",
        "    return (media_aluno, situacao)"
      ],
      "metadata": {
        "id": "LSXzBxz5GtNE"
      },
      "execution_count": null,
      "outputs": []
    },
    {
      "cell_type": "markdown",
      "source": [
        "# Função lambda (função ânonima)\n",
        "\n",
        "funcao que pode ser escrita em uma linha"
      ],
      "metadata": {
        "id": "W21FTsxhHN4T"
      }
    },
    {
      "cell_type": "code",
      "source": [
        "sum_nota = lambda nota, valor: nota + valor\n",
        "\n",
        "sum_nota(3, 5)"
      ],
      "metadata": {
        "colab": {
          "base_uri": "https://localhost:8080/"
        },
        "id": "e8hUhmzjHisj",
        "outputId": "c059cc4b-825e-4543-86f1-64589486945c"
      },
      "execution_count": 30,
      "outputs": [
        {
          "output_type": "execute_result",
          "data": {
            "text/plain": [
              "8"
            ]
          },
          "metadata": {},
          "execution_count": 30
        }
      ]
    },
    {
      "cell_type": "code",
      "source": [
        "#outro exemplo\n",
        "\n",
        "media_ponderada = lambda a,b,c: (a*0.2) + (b*0.3) + (c*0.5)/10\n",
        "\n",
        "media_ponderada(10, 9, 8)"
      ],
      "metadata": {
        "colab": {
          "base_uri": "https://localhost:8080/"
        },
        "id": "7gBsN7LyITH4",
        "outputId": "2d117066-a63e-4d95-d14c-4eeae855e09b"
      },
      "execution_count": 31,
      "outputs": [
        {
          "output_type": "execute_result",
          "data": {
            "text/plain": [
              "5.1"
            ]
          },
          "metadata": {},
          "execution_count": 31
        }
      ]
    },
    {
      "cell_type": "markdown",
      "source": [
        "# mapeando valores\n",
        "\n"
      ],
      "metadata": {
        "id": "k2GxpHvUI5Lv"
      }
    },
    {
      "cell_type": "code",
      "source": [
        "notas = [6.0, 7.0, 8.0, 9.0, 8.5]\n",
        "qualitativo = 0.5"
      ],
      "metadata": {
        "id": "F8PtgXuuI3Hx"
      },
      "execution_count": 32,
      "outputs": []
    },
    {
      "cell_type": "code",
      "source": [
        "notas_atualizadas = lambda x: x + qualitativo\n",
        "\n",
        "notas_atualizadas(notas)"
      ],
      "metadata": {
        "colab": {
          "base_uri": "https://localhost:8080/",
          "height": 263
        },
        "id": "08Rjvjb4JSLq",
        "outputId": "41b32d25-4c33-4567-abc9-581b258f92ec"
      },
      "execution_count": 33,
      "outputs": [
        {
          "output_type": "error",
          "ename": "TypeError",
          "evalue": "can only concatenate list (not \"float\") to list",
          "traceback": [
            "\u001b[0;31m---------------------------------------------------------------------------\u001b[0m",
            "\u001b[0;31mTypeError\u001b[0m                                 Traceback (most recent call last)",
            "\u001b[0;32m<ipython-input-33-5245ab875fdc>\u001b[0m in \u001b[0;36m<cell line: 3>\u001b[0;34m()\u001b[0m\n\u001b[1;32m      1\u001b[0m \u001b[0mnotas_atualizadas\u001b[0m \u001b[0;34m=\u001b[0m \u001b[0;32mlambda\u001b[0m \u001b[0mx\u001b[0m\u001b[0;34m:\u001b[0m \u001b[0mx\u001b[0m \u001b[0;34m+\u001b[0m \u001b[0mqualitativo\u001b[0m\u001b[0;34m\u001b[0m\u001b[0;34m\u001b[0m\u001b[0m\n\u001b[1;32m      2\u001b[0m \u001b[0;34m\u001b[0m\u001b[0m\n\u001b[0;32m----> 3\u001b[0;31m \u001b[0mnotas_atualizadas\u001b[0m\u001b[0;34m(\u001b[0m\u001b[0mnotas\u001b[0m\u001b[0;34m)\u001b[0m\u001b[0;34m\u001b[0m\u001b[0;34m\u001b[0m\u001b[0m\n\u001b[0m",
            "\u001b[0;32m<ipython-input-33-5245ab875fdc>\u001b[0m in \u001b[0;36m<lambda>\u001b[0;34m(x)\u001b[0m\n\u001b[0;32m----> 1\u001b[0;31m \u001b[0mnotas_atualizadas\u001b[0m \u001b[0;34m=\u001b[0m \u001b[0;32mlambda\u001b[0m \u001b[0mx\u001b[0m\u001b[0;34m:\u001b[0m \u001b[0mx\u001b[0m \u001b[0;34m+\u001b[0m \u001b[0mqualitativo\u001b[0m\u001b[0;34m\u001b[0m\u001b[0;34m\u001b[0m\u001b[0m\n\u001b[0m\u001b[1;32m      2\u001b[0m \u001b[0;34m\u001b[0m\u001b[0m\n\u001b[1;32m      3\u001b[0m \u001b[0mnotas_atualizadas\u001b[0m\u001b[0;34m(\u001b[0m\u001b[0mnotas\u001b[0m\u001b[0;34m)\u001b[0m\u001b[0;34m\u001b[0m\u001b[0;34m\u001b[0m\u001b[0m\n",
            "\u001b[0;31mTypeError\u001b[0m: can only concatenate list (not \"float\") to list"
          ]
        }
      ]
    },
    {
      "cell_type": "code",
      "source": [
        "notas_atualizadas = map(lambda x: x + qualitativo, notas)\n",
        "\n",
        "notas_atualizadas"
      ],
      "metadata": {
        "colab": {
          "base_uri": "https://localhost:8080/"
        },
        "id": "bxNq17ZzJh8i",
        "outputId": "ab1cdcf6-3b7d-4eeb-dadf-4824af11068d"
      },
      "execution_count": 34,
      "outputs": [
        {
          "output_type": "execute_result",
          "data": {
            "text/plain": [
              "<map at 0x796ed6f3e710>"
            ]
          },
          "metadata": {},
          "execution_count": 34
        }
      ]
    },
    {
      "cell_type": "code",
      "source": [
        "notas_atualizadas = list(notas_atualizadas)\n",
        "\n",
        "notas_atualizadas"
      ],
      "metadata": {
        "colab": {
          "base_uri": "https://localhost:8080/"
        },
        "id": "8ni_0tPzJ0fU",
        "outputId": "5a5dd46b-d019-45d9-9f83-17b87f3b2bc4"
      },
      "execution_count": 36,
      "outputs": [
        {
          "output_type": "execute_result",
          "data": {
            "text/plain": [
              "[6.5, 7.5, 8.5, 9.5, 10.5]"
            ]
          },
          "metadata": {},
          "execution_count": 36
        }
      ]
    },
    {
      "cell_type": "markdown",
      "source": [
        "ou seja, a funcao map, vai chamar a funcao lambda e aplicar varias interacoes (todos os valores da lista) sobre as notas nesse caso, entao o map vai enviar nota por nota para a funcao nesse caso lambda"
      ],
      "metadata": {
        "id": "JWAmjjnFKEu2"
      }
    },
    {
      "cell_type": "markdown",
      "source": [
        "# lista de listas\n",
        "\n",
        "ou tbm conhecidas como lista aninhadas ou bidimensionais"
      ],
      "metadata": {
        "id": "DXjyAl-6KwHw"
      }
    },
    {
      "cell_type": "code",
      "source": [
        "nomes = ['joao', 'maria', 'pedro', 'ana']\n",
        "notas = [10, 9, 8, 7, 8 ,9, 10, 6, 7, 9,10,6]\n",
        "\n",
        "notas_turma = []\n",
        "\n",
        "for i in range(0,len(notas), 3):\n",
        "  notas_turma.append([notas[i], notas[i+1], notas[i+2]])\n",
        "\n",
        "notas_turma"
      ],
      "metadata": {
        "colab": {
          "base_uri": "https://localhost:8080/"
        },
        "id": "s07MU4bBLg-n",
        "outputId": "9e767bd7-7b15-4e18-db8f-afc22dc0db98"
      },
      "execution_count": 1,
      "outputs": [
        {
          "output_type": "execute_result",
          "data": {
            "text/plain": [
              "[[10, 9, 8], [7, 8, 9], [10, 6, 7], [9, 10, 6]]"
            ]
          },
          "metadata": {},
          "execution_count": 1
        }
      ]
    },
    {
      "cell_type": "code",
      "source": [
        "notas_alunos = []\n",
        "\n",
        "for i in range(len(notas_turma)):\n",
        "  notas_alunos.append([nomes[i], notas_turma[i]])\n",
        "\n",
        "notas_alunos"
      ],
      "metadata": {
        "colab": {
          "base_uri": "https://localhost:8080/"
        },
        "id": "vhYdj9ChOXyo",
        "outputId": "943cb3c4-6be5-4e75-e3da-79fa8a3a5372"
      },
      "execution_count": 2,
      "outputs": [
        {
          "output_type": "execute_result",
          "data": {
            "text/plain": [
              "[['joao', [10, 9, 8]],\n",
              " ['maria', [7, 8, 9]],\n",
              " ['pedro', [10, 6, 7]],\n",
              " ['ana', [9, 10, 6]]]"
            ]
          },
          "metadata": {},
          "execution_count": 2
        }
      ]
    },
    {
      "cell_type": "code",
      "source": [
        "notas_alunos[0][1][0] #joao, item 1:arr, nota 10"
      ],
      "metadata": {
        "colab": {
          "base_uri": "https://localhost:8080/"
        },
        "id": "FDsKR3vOOXqR",
        "outputId": "f4122bc8-2208-4aea-bf05-d0aac48c6df6"
      },
      "execution_count": 52,
      "outputs": [
        {
          "output_type": "execute_result",
          "data": {
            "text/plain": [
              "10"
            ]
          },
          "metadata": {},
          "execution_count": 52
        }
      ]
    },
    {
      "cell_type": "markdown",
      "source": [
        "# For 'inline'"
      ],
      "metadata": {
        "id": "fcdDe0UPs5a5"
      }
    },
    {
      "cell_type": "code",
      "source": [
        "medias = [round(media(i),1) for i in notas_turma]\n",
        "\n",
        "medias"
      ],
      "metadata": {
        "colab": {
          "base_uri": "https://localhost:8080/"
        },
        "id": "H_tEeIO5s9G_",
        "outputId": "b5e58479-0f0e-49a6-9046-481aba4ebfcc"
      },
      "execution_count": 7,
      "outputs": [
        {
          "output_type": "execute_result",
          "data": {
            "text/plain": [
              "[9.0, 8.0, 7.7, 8.3]"
            ]
          },
          "metadata": {},
          "execution_count": 7
        }
      ]
    },
    {
      "cell_type": "markdown",
      "source": [
        "# tuplas\n",
        "\n",
        "uma lista com dados constantes que apos definidos noa podem ser alterados ou excluidos etc"
      ],
      "metadata": {
        "id": "8s1U6TdIta7N"
      }
    },
    {
      "cell_type": "code",
      "source": [
        "nomes = [('joao', '123'), ('maria', '456'), ('pedro', '789')]\n",
        "\n",
        "nomes"
      ],
      "metadata": {
        "colab": {
          "base_uri": "https://localhost:8080/"
        },
        "id": "iXq-tcdatksv",
        "outputId": "36ce5e5f-7da2-4e4a-c5c4-12e2a51329e3"
      },
      "execution_count": 8,
      "outputs": [
        {
          "output_type": "execute_result",
          "data": {
            "text/plain": [
              "[('joao', '123'), ('maria', '456'), ('pedro', '789')]"
            ]
          },
          "metadata": {},
          "execution_count": 8
        }
      ]
    },
    {
      "cell_type": "markdown",
      "source": [
        "extraindo nome da tupla e atribuindo as medias"
      ],
      "metadata": {
        "id": "_NYDej1EtU2A"
      }
    },
    {
      "cell_type": "code",
      "source": [
        "nomes = [nome[0] for nome in nomes]\n",
        "\n",
        "nomes"
      ],
      "metadata": {
        "colab": {
          "base_uri": "https://localhost:8080/"
        },
        "id": "TlNcBI8Vt82T",
        "outputId": "82106501-ccaf-4379-a96f-c7da2e1ac7c5"
      },
      "execution_count": 9,
      "outputs": [
        {
          "output_type": "execute_result",
          "data": {
            "text/plain": [
              "['joao', 'maria', 'pedro']"
            ]
          },
          "metadata": {},
          "execution_count": 9
        }
      ]
    },
    {
      "cell_type": "markdown",
      "source": [
        "para parear as medias e nomes, tem a funcao zip"
      ],
      "metadata": {
        "id": "Wz9tgw4YuIC4"
      }
    },
    {
      "cell_type": "code",
      "source": [
        "estudantes = list(zip(nomes, medias))\n",
        "\n",
        "estudantes"
      ],
      "metadata": {
        "colab": {
          "base_uri": "https://localhost:8080/"
        },
        "id": "evSeM9dSubG7",
        "outputId": "3dc2fd63-de57-407e-843a-a26e03abc591"
      },
      "execution_count": 10,
      "outputs": [
        {
          "output_type": "execute_result",
          "data": {
            "text/plain": [
              "[('joao', 9.0), ('maria', 8.0), ('pedro', 7.7)]"
            ]
          },
          "metadata": {},
          "execution_count": 10
        }
      ]
    },
    {
      "cell_type": "markdown",
      "source": [
        "candidatos a bolsa para o proximo ano para quem tirou mais que 8"
      ],
      "metadata": {
        "id": "YMmo12Aeuqev"
      }
    },
    {
      "cell_type": "code",
      "source": [
        "candidatos_bolsa = [estudante[0] for estudante in estudantes if estudante[1] >= 8]\n",
        "\n",
        "candidatos_bolsa"
      ],
      "metadata": {
        "colab": {
          "base_uri": "https://localhost:8080/"
        },
        "id": "1jeabMjcumc0",
        "outputId": "857ccc10-63f3-4d52-8ad0-32f0e598056e"
      },
      "execution_count": 13,
      "outputs": [
        {
          "output_type": "execute_result",
          "data": {
            "text/plain": [
              "['joao', 'maria']"
            ]
          },
          "metadata": {},
          "execution_count": 13
        }
      ]
    },
    {
      "cell_type": "markdown",
      "source": [
        "# list comprehesion com if else"
      ],
      "metadata": {
        "id": "Yne0BlE7vcwn"
      }
    },
    {
      "cell_type": "code",
      "source": [
        "nomes = [('joao', '123'), ('maria', '456'), ('pedro', '789'), ('ana', '987')]\n",
        "\n",
        "notas = [[8.0,7.3,10.0], [9.0,9.0,9.8], [3.0,7.0,5.6], [7.0,7.0,8.3]]\n",
        "\n",
        "medias = [round(media(i),1) for i in notas]\n",
        "\n",
        "\n",
        "medias"
      ],
      "metadata": {
        "colab": {
          "base_uri": "https://localhost:8080/"
        },
        "id": "veCfWslnuqvz",
        "outputId": "e0d4bda8-fba2-4e7f-c6c5-f527d4717ea2"
      },
      "execution_count": 5,
      "outputs": [
        {
          "output_type": "execute_result",
          "data": {
            "text/plain": [
              "[8.4, 9.3, 5.2, 7.4]"
            ]
          },
          "metadata": {},
          "execution_count": 5
        }
      ]
    },
    {
      "cell_type": "code",
      "source": [
        "situacao = ['aprovado' if media >= 6 else 'reprovado' for media in medias]\n",
        "\n",
        "situacao"
      ],
      "metadata": {
        "colab": {
          "base_uri": "https://localhost:8080/"
        },
        "id": "FeduwsuywN5v",
        "outputId": "6fb056c1-ff04-49a7-b8cb-cc91a579864e"
      },
      "execution_count": 6,
      "outputs": [
        {
          "output_type": "execute_result",
          "data": {
            "text/plain": [
              "['aprovado', 'aprovado', 'reprovado', 'aprovado']"
            ]
          },
          "metadata": {},
          "execution_count": 6
        }
      ]
    },
    {
      "cell_type": "code",
      "source": [
        "lista_completa = [nomes, notas, medias, situacao]\n",
        "\n",
        "lista_completa"
      ],
      "metadata": {
        "colab": {
          "base_uri": "https://localhost:8080/"
        },
        "id": "J9HvGh_2wzxz",
        "outputId": "5a2fb160-3c82-4f91-ce6a-78d7d6a93f1a"
      },
      "execution_count": 7,
      "outputs": [
        {
          "output_type": "execute_result",
          "data": {
            "text/plain": [
              "[[('joao', '123'), ('maria', '456'), ('pedro', '789'), ('ana', '987')],\n",
              " [[8.0, 7.3, 10.0], [9.0, 9.0, 9.8], [3.0, 7.0, 5.6], [7.0, 7.0, 8.3]],\n",
              " [8.4, 9.3, 5.2, 7.4],\n",
              " ['aprovado', 'aprovado', 'reprovado', 'aprovado']]"
            ]
          },
          "metadata": {},
          "execution_count": 7
        }
      ]
    },
    {
      "cell_type": "markdown",
      "source": [
        "# dict comprehension\n",
        "\n",
        "formato:\n",
        "{chave: valor for item in lista}"
      ],
      "metadata": {
        "id": "CKvJEHtCisWx"
      }
    },
    {
      "cell_type": "code",
      "source": [
        "colunas = ['notas', 'media_final','situacao']\n",
        "\n",
        "cadastro = {colunas[i]: lista_completa[1+i] for i in range(len(colunas))}\n",
        "\n",
        "cadastro"
      ],
      "metadata": {
        "colab": {
          "base_uri": "https://localhost:8080/"
        },
        "id": "wSTYd97-i8ck",
        "outputId": "d13d1cc5-4478-4b19-e18c-0d16eae7a6c6"
      },
      "execution_count": 10,
      "outputs": [
        {
          "output_type": "execute_result",
          "data": {
            "text/plain": [
              "{'notas': [[8.0, 7.3, 10.0],\n",
              "  [9.0, 9.0, 9.8],\n",
              "  [3.0, 7.0, 5.6],\n",
              "  [7.0, 7.0, 8.3]],\n",
              " 'media_final': [8.4, 9.3, 5.2, 7.4],\n",
              " 'situacao': ['aprovado', 'aprovado', 'reprovado', 'aprovado']}"
            ]
          },
          "metadata": {},
          "execution_count": 10
        }
      ]
    },
    {
      "cell_type": "markdown",
      "source": [
        "se eu quiser adicionar os nomes dos estudantes posterior mente"
      ],
      "metadata": {
        "id": "sn049Dcik6K6"
      }
    },
    {
      "cell_type": "code",
      "source": [
        "cadastro['estudantes'] = [lista_completa[0][i][0] for i in range(len(lista_completa[0]))]\n",
        "\n",
        "cadastro"
      ],
      "metadata": {
        "colab": {
          "base_uri": "https://localhost:8080/"
        },
        "id": "6aQ9Ni0Rk9wD",
        "outputId": "b098d98a-df56-48cc-eaab-00a66b1126da"
      },
      "execution_count": 14,
      "outputs": [
        {
          "output_type": "execute_result",
          "data": {
            "text/plain": [
              "{'notas': [[8.0, 7.3, 10.0],\n",
              "  [9.0, 9.0, 9.8],\n",
              "  [3.0, 7.0, 5.6],\n",
              "  [7.0, 7.0, 8.3]],\n",
              " 'media_final': [8.4, 9.3, 5.2, 7.4],\n",
              " 'situacao': ['aprovado', 'aprovado', 'reprovado', 'aprovado'],\n",
              " 'estudantes': ['joao', 'maria', 'pedro', 'ana']}"
            ]
          },
          "metadata": {},
          "execution_count": 14
        }
      ]
    },
    {
      "cell_type": "markdown",
      "source": [
        "# try except"
      ],
      "metadata": {
        "id": "XCvHrAnIoFMY"
      }
    },
    {
      "cell_type": "code",
      "source": [
        "try:\n",
        "  #codigo que vai executar\n",
        "except TypeError:\n",
        "  #codigo que vai executar caso ocorra um erro do tipo: typeerror\n",
        "except ValueError:\n",
        "  #codigo que vai executar caso ocorra um erro do tipo: valueerror\n",
        "except Exception as e:\n",
        "  #codigo que vai executar caso ocorra um erro do tipo: exception ou seja qualquer exception, e ja mostra o mesmo no valor 'e'\n"
      ],
      "metadata": {
        "id": "n8xP9uI_oE1j"
      },
      "execution_count": null,
      "outputs": []
    },
    {
      "cell_type": "code",
      "source": [
        "try:\n",
        "  nome = input('digite o nome do aluno que voce deseja buscar a nota: ')\n",
        "  notas = notas[nome]\n",
        "except:\n",
        "  print('aluno não encontrado')"
      ],
      "metadata": {
        "colab": {
          "base_uri": "https://localhost:8080/"
        },
        "id": "OjeLIoh2oVwq",
        "outputId": "68d78174-6d35-448b-bab5-e721da6488ad"
      },
      "execution_count": 17,
      "outputs": [
        {
          "output_type": "stream",
          "name": "stdout",
          "text": [
            "digite o nome do aluno que voce deseja buscar a nota: 0\n",
            "aluno não encontrado\n"
          ]
        }
      ]
    },
    {
      "cell_type": "code",
      "source": [
        "try:\n",
        "  nome = input('digite o nome do aluno que voce deseja buscar a nota: ')\n",
        "  notas = notas[nome]\n",
        "except:\n",
        "  print('aluno não encontrado')\n",
        "else:#caso nao de erros\n",
        "  print(notas)\n",
        "finally:\n",
        "  print('este é fim do programa') #executa por ultimo, independente se deu erro ou nao"
      ],
      "metadata": {
        "id": "iNct-HKXp120"
      },
      "execution_count": null,
      "outputs": []
    },
    {
      "cell_type": "markdown",
      "source": [
        "caso precise lancar um erro personalizado"
      ],
      "metadata": {
        "id": "t91XFAv8qsCY"
      }
    },
    {
      "cell_type": "code",
      "source": [
        "raise ValueError('valor invalido')\n",
        "#ou\n",
        "raise tipo_erro('mensagem')"
      ],
      "metadata": {
        "id": "da0wMV3vr0Ek"
      },
      "execution_count": null,
      "outputs": []
    }
  ]
}